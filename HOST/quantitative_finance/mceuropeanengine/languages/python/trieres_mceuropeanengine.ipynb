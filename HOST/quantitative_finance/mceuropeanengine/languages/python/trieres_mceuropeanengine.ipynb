{
 "cells": [
  {
   "cell_type": "markdown",
   "metadata": {},
   "source": [
    "## cloudFPGA TRIERES Lab\n",
    "### Case study: Monte-carlo European Pricing Engine \n",
    "### You don't need FPGA knowledge, just basic Python syntax !!!"
   ]
  },
  {
   "cell_type": "markdown",
   "metadata": {},
   "source": [
    "![Trieres Logo](./etc/trieres.png)\n",
    "\n",
    "Assuming that the FPGA is already flashed"
   ]
  },
  {
   "cell_type": "markdown",
   "metadata": {},
   "source": [
    "Configure the Python path to look for FPGA aceleration library"
   ]
  },
  {
   "cell_type": "code",
   "execution_count": 21,
   "metadata": {},
   "outputs": [],
   "source": [
    "import time\n",
    "import sys\n",
    "import os\n",
    "import numpy as np\n",
    "import matplotlib.pyplot as plt\n",
    "import QuantLib as ql"
   ]
  },
  {
   "cell_type": "code",
   "execution_count": 22,
   "metadata": {},
   "outputs": [],
   "source": [
    "trieres_lib=os.environ['cFpRootDir'] + \"HOST/quantitative_finance/mceuropeanengine/languages/python/build\"\n",
    "sys.path.append(trieres_lib)"
   ]
  },
  {
   "cell_type": "markdown",
   "metadata": {},
   "source": [
    "Import the FPGA accelerator library"
   ]
  },
  {
   "cell_type": "code",
   "execution_count": 23,
   "metadata": {},
   "outputs": [],
   "source": [
    "import _trieres"
   ]
  },
  {
   "cell_type": "raw",
   "metadata": {},
   "source": [
    "Monte-carlo European Pricing Engine parameters"
   ]
  },
  {
   "cell_type": "code",
   "execution_count": 24,
   "metadata": {},
   "outputs": [],
   "source": [
    "loop_nm = 2;    \n",
    "seed = 4332;\n",
    "underlying = 36;\n",
    "volatility = 0.20;\n",
    "dividendYield = 0.0;\n",
    "riskFreeRate = 0.06;\n",
    "timeLength = 1;\n",
    "strike = 40;\n",
    "optionType = 1;\n",
    "requiredTolerance = 0.02;\n",
    "requiredSamples = 1;\n",
    "timeSteps = 1;\n",
    "maxSamples = 1; "
   ]
  },
  {
   "cell_type": "markdown",
   "metadata": {},
   "source": [
    "Assign the IP of the FPGA that is already loaded with MCEuropeanEngine image"
   ]
  },
  {
   "cell_type": "code",
   "execution_count": 25,
   "metadata": {},
   "outputs": [
    {
     "name": "stdout",
     "output_type": "stream",
     "text": [
      "10.12.200.92\n"
     ]
    }
   ],
   "source": [
    "#fpga_ip=os.environ['FPGA_IP']\n",
    "fpga_ip=\"10.12.200.92\"\n",
    "print(fpga_ip)"
   ]
  },
  {
   "cell_type": "markdown",
   "metadata": {},
   "source": [
    "Execute the FPGA accelerator as a Python function"
   ]
  },
  {
   "cell_type": "code",
   "execution_count": 26,
   "metadata": {},
   "outputs": [],
   "source": [
    "start_fpga = time.time()\n",
    "\n",
    "price_vector = _trieres.mceuropeanengine(loop_nm, fpga_ip, \"2718\",\n",
    "                            seed,\n",
    "                            underlying,\n",
    "                            volatility,\n",
    "                            dividendYield,\n",
    "                            riskFreeRate,\n",
    "                            timeLength,\n",
    "                            strike,\n",
    "                            optionType,\n",
    "                            requiredTolerance,\n",
    "                            requiredSamples,\n",
    "                            timeSteps,\n",
    "                            maxSamples);\n",
    "done_fpga = time.time()\n",
    "elapsed_fpga = done_fpga - start_fpga"
   ]
  },
  {
   "cell_type": "code",
   "execution_count": 27,
   "metadata": {},
   "outputs": [
    {
     "name": "stdout",
     "output_type": "stream",
     "text": [
      "Output pricing vector from FPGA:\n",
      "[4413.28 4414.28]\n"
     ]
    }
   ],
   "source": [
    "print(\"Output pricing vector from FPGA:\")\n",
    "print(price_vector)"
   ]
  },
  {
   "cell_type": "code",
   "execution_count": 28,
   "metadata": {},
   "outputs": [
    {
     "data": {
      "image/png": "[encoded data removed]",
      "text/plain": [
       "<Figure size 432x288 with 1 Axes>"
      ]
     },
     "metadata": {
      "needs_background": "light"
     },
     "output_type": "display_data"
    }
   ],
   "source": [
    "line1, = plt.plot(price_vector, label='Option Prices')\n",
    "plt.legend(handles=[line1], loc='best')\n",
    "plt.grid(b=True, color='aqua', alpha=0.6, linestyle='dashdot')\n",
    "plt.show()"
   ]
  },
  {
   "cell_type": "code",
   "execution_count": 56,
   "metadata": {},
   "outputs": [
    {
     "name": "stdout",
     "output_type": "stream",
     "text": [
      "0.0\n",
      "CPU times: user 95 µs, sys: 41 µs, total: 136 µs\n",
      "Wall time: 140 µs\n"
     ]
    }
   ],
   "source": [
    "start_cpu = time.time()\n",
    "\n",
    "option = ql.EuropeanOption(ql.PlainVanillaPayoff(ql.Option.Call, 100.0),\n",
    "                                   ql.EuropeanExercise(ql.Date(7, ql.June, 2014)))\n",
    "\n",
    "riskFreeTS = ql.YieldTermStructureHandle(ql.FlatForward(today, 0.05, ql.Actual365Fixed()))\n",
    "dividendTS = ql.YieldTermStructureHandle(ql.FlatForward(today, 0.01, ql.Actual365Fixed()))\n",
    "volatility = ql.BlackVolTermStructureHandle(ql.BlackConstantVol(today, ql.NullCalendar(), 0.1, ql.Actual365Fixed()))\n",
    "initialValue = ql.QuoteHandle(ql.SimpleQuote(100))\n",
    "process = ql.BlackScholesMertonProcess(initialValue, dividendTS, riskFreeTS, volatility)\n",
    "\n",
    "steps = 2\n",
    "rng = \"pseudorandom\" # could use \"lowdiscrepancy\"\n",
    "numPaths = 100000\n",
    "\n",
    "MCengine = ql.MCEuropeanEngine(process, rng, steps, requiredSamples=numPaths)\n",
    "option.setPricingEngine(engine)\n",
    "%time print(option.NPV())\n",
    "done_cpu = time.time()\n",
    "elapsed_cpu = done_cpu - start_cpu"
   ]
  },
  {
   "cell_type": "code",
   "execution_count": 57,
   "metadata": {},
   "outputs": [
    {
     "name": "stdout",
     "output_type": "stream",
     "text": [
      "FPGA time = 0.0088100433\n",
      "CPU time  = 0.0015792847\n"
     ]
    }
   ],
   "source": [
    "print(\"FPGA time = \"+'{0:.10f}'.format(elapsed_fpga)+\"\\nCPU time  = \"+'{0:.10f}'.format(elapsed_cpu))"
   ]
  },
  {
   "cell_type": "code",
   "execution_count": 58,
   "metadata": {},
   "outputs": [
    {
     "data": {
      "image/png": "[encoded data removed]",
      "text/plain": [
       "<Figure size 432x288 with 1 Axes>"
      ]
     },
     "metadata": {
      "needs_background": "light"
     },
     "output_type": "display_data"
    }
   ],
   "source": [
    "height = [elapsed_cpu, elapsed_fpga]\n",
    "bars = ('CPU', 'FPGA')\n",
    "y_pos = np.arange(len(bars))\n",
    "plt.bar(y_pos, height)\n",
    "plt.xticks(y_pos, bars)\n",
    "plt.show()"
   ]
  }
 ],
 "metadata": {
  "kernelspec": {
   "display_name": "Python 3",
   "language": "python",
   "name": "python3"
  },
  "language_info": {
   "codemirror_mode": {
    "name": "ipython",
    "version": 3
   },
   "file_extension": ".py",
   "mimetype": "text/x-python",
   "name": "python",
   "nbconvert_exporter": "python",
   "pygments_lexer": "ipython3",
   "version": "3.5.2"
  }
 },
 "nbformat": 4,
 "nbformat_minor": 4
}
