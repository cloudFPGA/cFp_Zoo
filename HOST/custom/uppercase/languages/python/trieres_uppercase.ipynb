{
 "cells": [
  {
   "cell_type": "markdown",
   "id": "58badc96",
   "metadata": {
    "papermill": {
     "duration": 0.012534,
     "end_time": "2022-01-28T13:26:49.478482",
     "exception": false,
     "start_time": "2022-01-28T13:26:49.465948",
     "status": "completed"
    },
    "tags": []
   },
   "source": [
    "## cloudFPGA TRIERES example\n",
    "### Case study: Give an input string to FPGA and get the upper-case string from FPGA \n",
    "### You don't need FPGA knowledge, just basic Python syntax !!!"
   ]
  },
  {
   "cell_type": "markdown",
   "id": "4b0d5766",
   "metadata": {
    "papermill": {
     "duration": 0.014214,
     "end_time": "2022-01-28T13:26:49.504535",
     "exception": false,
     "start_time": "2022-01-28T13:26:49.490321",
     "status": "completed"
    },
    "tags": []
   },
   "source": [
    "![Trieres Logo](./etc/trieres.png)\n",
    "\n",
    "Assuming that the FPGA is already flashed"
   ]
  },
  {
   "cell_type": "markdown",
   "id": "f5afc03b",
   "metadata": {
    "papermill": {
     "duration": 0.007696,
     "end_time": "2022-01-28T13:26:49.522837",
     "exception": false,
     "start_time": "2022-01-28T13:26:49.515141",
     "status": "completed"
    },
    "tags": []
   },
   "source": [
    "Configure the Python path to look for FPGA aceleration library"
   ]
  },
  {
   "cell_type": "code",
   "execution_count": 1,
   "id": "683ee971",
   "metadata": {
    "execution": {
     "iopub.execute_input": "2022-01-28T13:26:49.544084Z",
     "iopub.status.busy": "2022-01-28T13:26:49.543714Z",
     "iopub.status.idle": "2022-01-28T13:26:49.545454Z",
     "shell.execute_reply": "2022-01-28T13:26:49.545829Z"
    },
    "papermill": {
     "duration": 0.01505,
     "end_time": "2022-01-28T13:26:49.545953",
     "exception": false,
     "start_time": "2022-01-28T13:26:49.530903",
     "status": "completed"
    },
    "tags": []
   },
   "outputs": [],
   "source": [
    "import time\n",
    "import sys\n",
    "import os"
   ]
  },
  {
   "cell_type": "code",
   "execution_count": 2,
   "id": "d087c12c",
   "metadata": {
    "execution": {
     "iopub.execute_input": "2022-01-28T13:26:49.564085Z",
     "iopub.status.busy": "2022-01-28T13:26:49.562986Z",
     "iopub.status.idle": "2022-01-28T13:26:49.565159Z",
     "shell.execute_reply": "2022-01-28T13:26:49.565605Z"
    },
    "papermill": {
     "duration": 0.013514,
     "end_time": "2022-01-28T13:26:49.565785",
     "exception": false,
     "start_time": "2022-01-28T13:26:49.552271",
     "status": "completed"
    },
    "tags": []
   },
   "outputs": [],
   "source": [
    "trieres_lib=os.environ['cFpRootDir'] + \"/HOST/custom/uppercase/languages/python/build\"\n",
    "sys.path.append(trieres_lib)"
   ]
  },
  {
   "cell_type": "markdown",
   "id": "07253575",
   "metadata": {
    "papermill": {
     "duration": 0.009598,
     "end_time": "2022-01-28T13:26:49.584311",
     "exception": false,
     "start_time": "2022-01-28T13:26:49.574713",
     "status": "completed"
    },
    "tags": []
   },
   "source": [
    "Import the FPGA accelerator library"
   ]
  },
  {
   "cell_type": "code",
   "execution_count": 3,
   "id": "2fb24057",
   "metadata": {
    "execution": {
     "iopub.execute_input": "2022-01-28T13:26:49.603536Z",
     "iopub.status.busy": "2022-01-28T13:26:49.602983Z",
     "iopub.status.idle": "2022-01-28T13:26:49.605784Z",
     "shell.execute_reply": "2022-01-28T13:26:49.605464Z"
    },
    "papermill": {
     "duration": 0.014257,
     "end_time": "2022-01-28T13:26:49.605887",
     "exception": false,
     "start_time": "2022-01-28T13:26:49.591630",
     "status": "completed"
    },
    "tags": []
   },
   "outputs": [],
   "source": [
    "import _trieres"
   ]
  },
  {
   "cell_type": "code",
   "execution_count": 4,
   "id": "d8c600cd",
   "metadata": {
    "execution": {
     "iopub.execute_input": "2022-01-28T13:26:49.627655Z",
     "iopub.status.busy": "2022-01-28T13:26:49.626940Z",
     "iopub.status.idle": "2022-01-28T13:26:49.628838Z",
     "shell.execute_reply": "2022-01-28T13:26:49.629208Z"
    },
    "papermill": {
     "duration": 0.013967,
     "end_time": "2022-01-28T13:26:49.629352",
     "exception": false,
     "start_time": "2022-01-28T13:26:49.615385",
     "status": "completed"
    },
    "tags": []
   },
   "outputs": [],
   "source": [
    "input = \"HelloWorld\""
   ]
  },
  {
   "cell_type": "markdown",
   "id": "b4fff591",
   "metadata": {
    "papermill": {
     "duration": 0.007099,
     "end_time": "2022-01-28T13:26:49.644030",
     "exception": false,
     "start_time": "2022-01-28T13:26:49.636931",
     "status": "completed"
    },
    "tags": []
   },
   "source": [
    "Currently we reserve space on host for output (can also be done in library)"
   ]
  },
  {
   "cell_type": "code",
   "execution_count": 5,
   "id": "d9538a32",
   "metadata": {
    "execution": {
     "iopub.execute_input": "2022-01-28T13:26:49.659531Z",
     "iopub.status.busy": "2022-01-28T13:26:49.659140Z",
     "iopub.status.idle": "2022-01-28T13:26:49.660494Z",
     "shell.execute_reply": "2022-01-28T13:26:49.660814Z"
    },
    "papermill": {
     "duration": 0.010294,
     "end_time": "2022-01-28T13:26:49.660926",
     "exception": false,
     "start_time": "2022-01-28T13:26:49.650632",
     "status": "completed"
    },
    "tags": []
   },
   "outputs": [],
   "source": [
    "fpga_output = \"1111111111\""
   ]
  },
  {
   "cell_type": "markdown",
   "id": "9e176f04",
   "metadata": {
    "papermill": {
     "duration": 0.006166,
     "end_time": "2022-01-28T13:26:49.673681",
     "exception": false,
     "start_time": "2022-01-28T13:26:49.667515",
     "status": "completed"
    },
    "tags": []
   },
   "source": [
    "Execute the FPGA accelerator as a Python function"
   ]
  },
  {
   "cell_type": "code",
   "execution_count": 6,
   "id": "435969f1",
   "metadata": {
    "execution": {
     "iopub.execute_input": "2022-01-28T13:26:49.689512Z",
     "iopub.status.busy": "2022-01-28T13:26:49.689131Z",
     "iopub.status.idle": "2022-01-28T13:26:49.691200Z",
     "shell.execute_reply": "2022-01-28T13:26:49.690864Z"
    },
    "papermill": {
     "duration": 0.011343,
     "end_time": "2022-01-28T13:26:49.691298",
     "exception": false,
     "start_time": "2022-01-28T13:26:49.679955",
     "status": "completed"
    },
    "tags": []
   },
   "outputs": [
    {
     "name": "stdout",
     "output_type": "stream",
     "text": [
      "localhost\n"
     ]
    }
   ],
   "source": [
    "#fpga_ip=os.environ['FPGA_IP']\n",
    "fpga_ip=\"localhost\"\n",
    "print(fpga_ip)"
   ]
  },
  {
   "cell_type": "code",
   "execution_count": 7,
   "id": "d8d28085",
   "metadata": {
    "execution": {
     "iopub.execute_input": "2022-01-28T13:26:49.948283Z",
     "iopub.status.busy": "2022-01-28T13:26:49.945933Z",
     "iopub.status.idle": "2022-01-28T13:26:49.952626Z",
     "shell.execute_reply": "2022-01-28T13:26:49.954204Z"
    },
    "papermill": {
     "duration": 0.25582,
     "end_time": "2022-01-28T13:26:49.954451",
     "exception": false,
     "start_time": "2022-01-28T13:26:49.698631",
     "status": "completed"
    },
    "tags": []
   },
   "outputs": [],
   "source": [
    "start_fpga = time.time()\n",
    "\n",
    "out, fpga_output = _trieres.uppercase(fpga_ip, \"2718\", input, True)\n",
    "\n",
    "done_fpga = time.time()\n",
    "elapsed_fpga = done_fpga - start_fpga"
   ]
  },
  {
   "cell_type": "code",
   "execution_count": 8,
   "id": "633feb97",
   "metadata": {
    "execution": {
     "iopub.execute_input": "2022-01-28T13:26:49.986084Z",
     "iopub.status.busy": "2022-01-28T13:26:49.985468Z",
     "iopub.status.idle": "2022-01-28T13:26:49.988085Z",
     "shell.execute_reply": "2022-01-28T13:26:49.987620Z"
    },
    "papermill": {
     "duration": 0.022061,
     "end_time": "2022-01-28T13:26:49.988214",
     "exception": false,
     "start_time": "2022-01-28T13:26:49.966153",
     "status": "completed"
    },
    "tags": []
   },
   "outputs": [
    {
     "name": "stdout",
     "output_type": "stream",
     "text": [
      "Output from FPGA : HELLOWORLD\n"
     ]
    }
   ],
   "source": [
    "print(\"Output from FPGA : \"+fpga_output)"
   ]
  },
  {
   "cell_type": "code",
   "execution_count": 9,
   "id": "f29dc53e",
   "metadata": {
    "execution": {
     "iopub.execute_input": "2022-01-28T13:26:50.016727Z",
     "iopub.status.busy": "2022-01-28T13:26:50.015938Z",
     "iopub.status.idle": "2022-01-28T13:26:50.019325Z",
     "shell.execute_reply": "2022-01-28T13:26:50.020189Z"
    },
    "papermill": {
     "duration": 0.022207,
     "end_time": "2022-01-28T13:26:50.020555",
     "exception": false,
     "start_time": "2022-01-28T13:26:49.998348",
     "status": "completed"
    },
    "tags": []
   },
   "outputs": [
    {
     "name": "stdout",
     "output_type": "stream",
     "text": [
      "Output from CPU : HELLOWORLD\n"
     ]
    }
   ],
   "source": [
    "start_cpu = time.time()\n",
    "\n",
    "cpu_output=input.upper()\n",
    "\n",
    "done_cpu = time.time()\n",
    "print(\"Output from CPU : \"+cpu_output)\n",
    "elapsed_cpu = done_cpu - start_cpu"
   ]
  },
  {
   "cell_type": "code",
   "execution_count": 10,
   "id": "58960fbd",
   "metadata": {
    "execution": {
     "iopub.execute_input": "2022-01-28T13:26:50.052214Z",
     "iopub.status.busy": "2022-01-28T13:26:50.051792Z",
     "iopub.status.idle": "2022-01-28T13:26:50.053460Z",
     "shell.execute_reply": "2022-01-28T13:26:50.053811Z"
    },
    "papermill": {
     "duration": 0.016638,
     "end_time": "2022-01-28T13:26:50.053930",
     "exception": false,
     "start_time": "2022-01-28T13:26:50.037292",
     "status": "completed"
    },
    "tags": []
   },
   "outputs": [
    {
     "name": "stdout",
     "output_type": "stream",
     "text": [
      "FPGA time = 0.2372670174\n",
      "CPU time  = 0.0000500679\n"
     ]
    }
   ],
   "source": [
    "print(\"FPGA time = \"+'{0:.10f}'.format(elapsed_fpga)+\"\\nCPU time  = \"+'{0:.10f}'.format(elapsed_cpu))"
   ]
  }
 ],
 "metadata": {
  "kernelspec": {
   "display_name": "Python 3",
   "language": "python",
   "name": "python3"
  },
  "language_info": {
   "codemirror_mode": {
    "name": "ipython",
    "version": 3
   },
   "file_extension": ".py",
   "mimetype": "text/x-python",
   "name": "python",
   "nbconvert_exporter": "python",
   "pygments_lexer": "ipython3",
   "version": "3.6.8"
  },
  "papermill": {
   "default_parameters": {},
   "duration": 1.598116,
   "end_time": "2022-01-28T13:26:50.381769",
   "environment_variables": {},
   "exception": null,
   "input_path": "/home/did/projects/cloudFPGA/cFp_Zoo/HOST/custom/uppercase/languages/python/trieres_uppercase.ipynb",
   "output_path": "/home/did/projects/cloudFPGA/cFp_Zoo/HOST/custom/uppercase/languages/python/trieres_uppercase.ipynb",
   "parameters": {},
   "start_time": "2022-01-28T13:26:48.783653",
   "version": "2.3.4"
  }
 },
 "nbformat": 4,
 "nbformat_minor": 5
}