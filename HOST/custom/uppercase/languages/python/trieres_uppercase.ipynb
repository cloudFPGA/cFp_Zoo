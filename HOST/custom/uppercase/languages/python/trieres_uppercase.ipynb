{
 "cells": [
  {
   "cell_type": "markdown",
   "metadata": {},
   "source": [
    "## cloudFPGA TRIERES example\n",
    "### Case study: Give an input string to FPGA and get the upper-case string from FPGA \n",
    "### You don't need FPGA knowledge, just basic Python syntax !!!"
   ]
  },
  {
   "cell_type": "markdown",
   "metadata": {},
   "source": [
    "![Trieres Logo](./etc/trieres.png)\n",
    "\n",
    "Assuming that the FPGA is already flashed"
   ]
  },
  {
   "cell_type": "markdown",
   "metadata": {},
   "source": [
    "Configure the Python path to look for FPGA aceleration library"
   ]
  },
  {
   "cell_type": "code",
   "execution_count": 1,
   "metadata": {},
   "outputs": [],
   "source": [
    "import time\n",
    "import sys\n",
    "import os"
   ]
  },
  {
   "cell_type": "code",
   "execution_count": 2,
   "metadata": {},
   "outputs": [],
   "source": [
    "trieres_lib=os.environ['cFpRootDir'] + \"/HOST/languages/python/build\"\n",
    "sys.path.append(trieres_lib)"
   ]
  },
  {
   "cell_type": "markdown",
   "metadata": {},
   "source": [
    "Import the FPGA accelerator library"
   ]
  },
  {
   "cell_type": "code",
   "execution_count": 3,
   "metadata": {},
   "outputs": [],
   "source": [
    "import _trieres"
   ]
  },
  {
   "cell_type": "code",
   "execution_count": 4,
   "metadata": {},
   "outputs": [],
   "source": [
    "input = \"HelloWorld\""
   ]
  },
  {
   "cell_type": "markdown",
   "metadata": {},
   "source": [
    "Currently we reserve space on host for output (can also be done in library)"
   ]
  },
  {
   "cell_type": "code",
   "execution_count": 5,
   "metadata": {},
   "outputs": [],
   "source": [
    "fpga_output = \"1111111111\""
   ]
  },
  {
   "cell_type": "markdown",
   "metadata": {},
   "source": [
    "Execute the FPGA accelerator as a Python function"
   ]
  },
  {
   "cell_type": "code",
   "execution_count": 6,
   "metadata": {},
   "outputs": [
    {
     "name": "stdout",
     "output_type": "stream",
     "text": [
      "localhost\n"
     ]
    }
   ],
   "source": [
    "fpga_ip=os.environ['FPGA_IP']\n",
    "print(fpga_ip)"
   ]
  },
  {
   "cell_type": "code",
   "execution_count": null,
   "metadata": {},
   "outputs": [],
   "source": [
    "start_fpga = time.time()\n",
    "\n",
    "out, fpga_output = _trieres.uppercase(fpga_ip, \"2718\", input, True)\n",
    "\n",
    "done_fpga = time.time()\n",
    "elapsed_fpga = done_fpga - start_fpga"
   ]
  },
  {
   "cell_type": "code",
   "execution_count": 7,
   "metadata": {},
   "outputs": [
    {
     "name": "stdout",
     "output_type": "stream",
     "text": [
      "Output from FPGA:HELLOWORLD\n"
     ]
    }
   ],
   "source": [
    "print(\"Output from FPGA:\"+fpga_output)"
   ]
  },
  {
   "cell_type": "code",
   "execution_count": 8,
   "metadata": {},
   "outputs": [
    {
     "name": "stdout",
     "output_type": "stream",
     "text": [
      "Output from CPU :HELLOWORLD\n"
     ]
    }
   ],
   "source": [
    "start_cpu = time.time()\n",
    "\n",
    "cpu_output=input.upper()\n",
    "\n",
    "done_cpu = time.time()\n",
    "print(\"Output from CPU :\"+cpu_output)\n",
    "elapsed_cpu = done_cpu - start_cpu"
   ]
  },
  {
   "cell_type": "code",
   "execution_count": 9,
   "metadata": {},
   "outputs": [
    {
     "name": "stdout",
     "output_type": "stream",
     "text": [
      "FPGA time = 3.0212068558\n",
      "CPU time  = 0.0001032352\n"
     ]
    }
   ],
   "source": [
    "print(\"FPGA time = \"+'{0:.10f}'.format(elapsed_fpga)+\"\\nCPU time  = \"+'{0:.10f}'.format(elapsed_cpu))"
   ]
  }
 ],
 "metadata": {
  "kernelspec": {
   "display_name": "Python 3",
   "language": "python",
   "name": "python3"
  },
  "language_info": {
   "codemirror_mode": {
    "name": "ipython",
    "version": 3
   },
   "file_extension": ".py",
   "mimetype": "text/x-python",
   "name": "python",
   "nbconvert_exporter": "python",
   "pygments_lexer": "ipython3",
   "version": "3.5.2"
  }
 },
 "nbformat": 4,
 "nbformat_minor": 4
}
